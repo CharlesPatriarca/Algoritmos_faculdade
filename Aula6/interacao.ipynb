{
 "cells": [
  {
   "cell_type": "code",
   "execution_count": 1,
   "metadata": {},
   "outputs": [
    {
     "name": "stdout",
     "output_type": "stream",
     "text": [
      "Estamos no elemento 1\n",
      "Estamos no elemento 2\n",
      "Estamos no elemento 3\n",
      "Estamos no elemento 4\n",
      "Estamos no elemento 5\n",
      "Estamos no elemento 6\n"
     ]
    }
   ],
   "source": [
    "for elemento in [1,2,3,4,5,6]:\n",
    "    print (f'Estamos no elemento {elemento}')"
   ]
  },
  {
   "cell_type": "code",
   "execution_count": 5,
   "metadata": {},
   "outputs": [
    {
     "name": "stdout",
     "output_type": "stream",
     "text": [
      "Estamos no elemento, 1\n",
      "Estamos no elemento, 2\n",
      "Estamos no elemento, 3\n",
      "Estamos no elemento, 4\n",
      "Estamos no elemento, 5\n",
      "Estamos no elemento, 6\n"
     ]
    }
   ],
   "source": [
    "a = [1,2,3,4,5,6]\n",
    "\n",
    "for x in range (len(a)):\n",
    "    print (f'Estamos no elemento, {a[x]}')"
   ]
  },
  {
   "cell_type": "code",
   "execution_count": 7,
   "metadata": {},
   "outputs": [
    {
     "name": "stdout",
     "output_type": "stream",
     "text": [
      "Estamos no elemento, S\n",
      "Estamos no elemento, T\n",
      "Estamos no elemento, R\n",
      "Estamos no elemento, I\n",
      "Estamos no elemento, N\n",
      "Estamos no elemento, G\n"
     ]
    }
   ],
   "source": [
    "for elemento in 'STRING':\n",
    "    print (f'Estamos no elemento, {elemento}')"
   ]
  },
  {
   "cell_type": "code",
   "execution_count": 9,
   "metadata": {},
   "outputs": [
    {
     "name": "stdout",
     "output_type": "stream",
     "text": [
      "Estamos no elemento, 0\n",
      "Estamos no elemento, 1\n",
      "Estamos no elemento, 2\n",
      "Estamos no elemento, 3\n",
      "Estamos no elemento, 4\n",
      "Estamos no elemento, 5\n"
     ]
    }
   ],
   "source": [
    "for elemento in range (len('STRING')):\n",
    "    print (f'Estamos no elemento, {elemento}')"
   ]
  },
  {
   "cell_type": "code",
   "execution_count": 11,
   "metadata": {},
   "outputs": [
    {
     "name": "stdout",
     "output_type": "stream",
     "text": [
      "Estamos no elemento, 0\n",
      "Estamos no elemento, 1\n",
      "Estamos no elemento, 2\n",
      "Estamos no elemento, 3\n",
      "Estamos no elemento, 4\n",
      "Estamos no elemento, 5\n",
      "Estamos no elemento, 6\n"
     ]
    }
   ],
   "source": [
    "elemento = 0\n",
    "\n",
    "while elemento <= len ([1,2,3,4,5,6]):\n",
    "    print (f'Estamos no elemento, {elemento}')\n",
    "    elemento += 1"
   ]
  },
  {
   "cell_type": "code",
   "execution_count": 15,
   "metadata": {},
   "outputs": [
    {
     "name": "stdout",
     "output_type": "stream",
     "text": [
      "Estamos no elemento, S\n",
      "Estamos no elemento, T\n",
      "Estamos no elemento, R\n",
      "Estamos no elemento, I\n",
      "Estamos no elemento, N\n",
      "Estamos no elemento, G\n"
     ]
    }
   ],
   "source": [
    "s = 'STRING'\n",
    "indice = 0\n",
    "\n",
    "while indice in range (len(s)):\n",
    "    print (f'Estamos no elemento, {s[indice]}')\n",
    "    indice += 1"
   ]
  },
  {
   "cell_type": "code",
   "execution_count": 17,
   "metadata": {},
   "outputs": [
    {
     "name": "stdout",
     "output_type": "stream",
     "text": [
      "0 t\n",
      "1 r\n",
      "2 a\n",
      "3 n\n",
      "4 q\n",
      "5 u\n",
      "6 i\n",
      "7 l\n",
      "8 o\n"
     ]
    }
   ],
   "source": [
    "palavra = 'tranquilo'\n",
    "\n",
    "for indice, x in enumerate (palavra):\n",
    "    print (indice, x)"
   ]
  },
  {
   "cell_type": "code",
   "execution_count": 18,
   "metadata": {},
   "outputs": [],
   "source": [
    "lista = ['eat', 'sleep', 'repeat']\n",
    "palavra = 'greek'"
   ]
  },
  {
   "cell_type": "code",
   "execution_count": 30,
   "metadata": {},
   "outputs": [
    {
     "name": "stdout",
     "output_type": "stream",
     "text": [
      "<enumerate object at 0x0000020BF85535B0> <enumerate object at 0x0000020BF85530B0>\n"
     ]
    }
   ],
   "source": [
    "objeto1 = enumerate (lista)\n",
    "objeto2 = enumerate (palavra)\n",
    "\n",
    "print (objeto1, objeto2)"
   ]
  },
  {
   "cell_type": "code",
   "execution_count": 25,
   "metadata": {},
   "outputs": [
    {
     "name": "stdout",
     "output_type": "stream",
     "text": [
      "Tipo:  <class 'enumerate'>\n",
      "[(0, 'eat'), (1, 'sleep'), (2, 'repeat')]\n"
     ]
    }
   ],
   "source": [
    "print ('Tipo: ', type (objeto1))\n",
    "print (list(enumerate(lista)))"
   ]
  },
  {
   "cell_type": "code",
   "execution_count": 26,
   "metadata": {},
   "outputs": [
    {
     "name": "stdout",
     "output_type": "stream",
     "text": [
      "[(2, 'g'), (3, 'r'), (4, 'e'), (5, 'e'), (6, 'k')]\n"
     ]
    }
   ],
   "source": [
    "print (list(enumerate(palavra,2)))"
   ]
  },
  {
   "cell_type": "code",
   "execution_count": 31,
   "metadata": {},
   "outputs": [
    {
     "name": "stdout",
     "output_type": "stream",
     "text": [
      "oi\n",
      "oi\n",
      "oi\n",
      "oi\n",
      "oi\n",
      "oi\n",
      "oi\n",
      "oi\n",
      "oi\n",
      "oi\n",
      "oi\n",
      "oi\n",
      "oi\n"
     ]
    }
   ],
   "source": [
    "s = 'viva o python'\n",
    "\n",
    "for ch in s:\n",
    "    print ('oi')"
   ]
  },
  {
   "cell_type": "code",
   "execution_count": 32,
   "metadata": {},
   "outputs": [
    {
     "name": "stdout",
     "output_type": "stream",
     "text": [
      "oi\n",
      "oi\n",
      "oi\n",
      "oi\n",
      "oi\n"
     ]
    }
   ],
   "source": [
    "s = 'viva o python'\n",
    "for ch in s[3:8]:\n",
    "    print ('oi')"
   ]
  },
  {
   "cell_type": "code",
   "execution_count": 53,
   "metadata": {},
   "outputs": [
    {
     "name": "stdout",
     "output_type": "stream",
     "text": [
      "A quantidade de números pares é 5\n",
      "A quantidade de números ímpares é 5\n"
     ]
    }
   ],
   "source": [
    "numPares = 0\n",
    "numImpares = 0\n",
    "\n",
    "for x in range (10):\n",
    "    numeros = int(input('Digite os números: '))\n",
    "    if numeros % 2 == 0:\n",
    "        numPares += 1\n",
    "    else:\n",
    "        numImpares += 1 \n",
    "\n",
    "print (f'A quantidade de números pares é {numPares}')\n",
    "print (f'A quantidade de números ímpares é {numImpares}')"
   ]
  }
 ],
 "metadata": {
  "kernelspec": {
   "display_name": "Python 3",
   "language": "python",
   "name": "python3"
  },
  "language_info": {
   "codemirror_mode": {
    "name": "ipython",
    "version": 3
   },
   "file_extension": ".py",
   "mimetype": "text/x-python",
   "name": "python",
   "nbconvert_exporter": "python",
   "pygments_lexer": "ipython3",
   "version": "3.12.1"
  }
 },
 "nbformat": 4,
 "nbformat_minor": 2
}
