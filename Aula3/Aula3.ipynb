{
 "cells": [
  {
   "cell_type": "code",
   "execution_count": 2,
   "metadata": {},
   "outputs": [
    {
     "name": "stdout",
     "output_type": "stream",
     "text": [
      "O número escolhido foi 23\n"
     ]
    }
   ],
   "source": [
    "#pedir número\n",
    "number = int(input('Qual o seu número? '))\n",
    "print(f'O número escolhido foi {number}')"
   ]
  },
  {
   "cell_type": "code",
   "execution_count": null,
   "metadata": {},
   "outputs": [],
   "source": []
  },
  {
   "cell_type": "code",
   "execution_count": 4,
   "metadata": {},
   "outputs": [
    {
     "name": "stdout",
     "output_type": "stream",
     "text": [
      "A soma dos dois números é 11\n"
     ]
    }
   ],
   "source": [
    "# pedir dois números e somar\n",
    "number1 = int(input('Primeiro número: '))\n",
    "number2 = int(input('Sehundo número'))\n",
    "\n",
    "soma = number1 + number2\n",
    "\n",
    "print(f'A soma dos dois números é {soma}')"
   ]
  },
  {
   "cell_type": "code",
   "execution_count": 8,
   "metadata": {},
   "outputs": [
    {
     "name": "stdout",
     "output_type": "stream",
     "text": [
      "Sua média é 8.0\n"
     ]
    }
   ],
   "source": [
    "nota1 = float(input('Primeria nota: '))\n",
    "nota2 = float(input('Segunda nota: '))\n",
    "nota3 = float(input('Terceira nota: '))\n",
    "\n",
    "media = (nota1 + nota2 + nota3) // 3\n",
    "\n",
    "print(f'Sua média é {media}')"
   ]
  },
  {
   "cell_type": "code",
   "execution_count": 11,
   "metadata": {},
   "outputs": [
    {
     "name": "stdout",
     "output_type": "stream",
     "text": [
      "Seu salário é 3000.0\n"
     ]
    }
   ],
   "source": [
    "ganhohora = float(input('Quanto você ganha por hora? '))\n",
    "horastrab = int(input('Quantas horas você trabalha? '))\n",
    "\n",
    "salario = ganhohora * horastrab\n",
    "\n",
    "print(f'Seu salário é {salario}')"
   ]
  },
  {
   "cell_type": "code",
   "execution_count": 14,
   "metadata": {},
   "outputs": [
    {
     "name": "stdout",
     "output_type": "stream",
     "text": [
      "Valor a pagar é 40.0\n"
     ]
    }
   ],
   "source": [
    "#recebe o quilo\n",
    "pesca = float(input('Qual foi o peso da pesca? '))\n",
    "\n",
    "#calcula o excedente\n",
    "excedente = pesca - 50\n",
    "\n",
    "#determina o valor da multa\n",
    "multa = excedente * 4.00\n",
    "\n",
    "if (excedente > 0 ):\n",
    "    print(f'Valor da multa é {multa}')\n",
    "else:\n",
    "    print(f'Pagará o valor normal')"
   ]
  }
 ],
 "metadata": {
  "kernelspec": {
   "display_name": "Python 3",
   "language": "python",
   "name": "python3"
  },
  "language_info": {
   "codemirror_mode": {
    "name": "ipython",
    "version": 3
   },
   "file_extension": ".py",
   "mimetype": "text/x-python",
   "name": "python",
   "nbconvert_exporter": "python",
   "pygments_lexer": "ipython3",
   "version": "3.12.1"
  }
 },
 "nbformat": 4,
 "nbformat_minor": 2
}
