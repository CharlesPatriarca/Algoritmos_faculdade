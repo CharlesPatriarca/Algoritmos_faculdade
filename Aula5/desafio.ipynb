{
 "cells": [
  {
   "cell_type": "code",
   "execution_count": 6,
   "metadata": {},
   "outputs": [
    {
     "name": "stdout",
     "output_type": "stream",
     "text": [
      "[76, 92.3, 'oi', True, 4, 76, 'pitomba', 76]\n"
     ]
    }
   ],
   "source": [
    "# A)\n",
    "minhaLista = [76,92.3,'oi', True, 4, 76, 0, 0]\n",
    "minhaLista [6] = \"pitomba\"\n",
    "minhaLista [7] = 76\n",
    "print (minhaLista)\n"
   ]
  },
  {
   "cell_type": "code",
   "execution_count": 14,
   "metadata": {},
   "outputs": [
    {
     "name": "stdout",
     "output_type": "stream",
     "text": [
      "[76, 92.3, 'oi', True, 4, 76, 'pitomba', 76]\n"
     ]
    }
   ],
   "source": [
    "# A)\n",
    "minhaLista = [76,92.3,'oi', True, 4, 76]\n",
    "lista2 = ['pitomba', 76]\n",
    "novaLista = minhaLista + lista2\n",
    "\n",
    "print (novaLista)"
   ]
  },
  {
   "cell_type": "code",
   "execution_count": 7,
   "metadata": {},
   "outputs": [
    {
     "name": "stdout",
     "output_type": "stream",
     "text": [
      "[76, 92.3, 'oi', 'Cibele', 4, 76, 0, 0]\n"
     ]
    }
   ],
   "source": [
    "# B)\n",
    "minhaLista = [76,92.3,'oi', True, 4, 76, 0, 0]\n",
    "minhaLista [3] = \"Cibele\"\n",
    "print (minhaLista)"
   ]
  },
  {
   "cell_type": "code",
   "execution_count": 27,
   "metadata": {},
   "outputs": [
    {
     "name": "stdout",
     "output_type": "stream",
     "text": [
      "[76, 92.3, 'oi', 'Cibele', True, 4, 76, 'pitomba', 76]\n"
     ]
    }
   ],
   "source": [
    "# B)\n",
    "minhaLista = [76, 92.3, 'oi', True, 4, 76, 'pitomba', 76]\n",
    "minhaLista = minhaLista [:3] + ['Cibele'] + minhaLista [3:]\n",
    "\n",
    "print (minhaLista)"
   ]
  },
  {
   "cell_type": "code",
   "execution_count": 28,
   "metadata": {},
   "outputs": [
    {
     "name": "stdout",
     "output_type": "stream",
     "text": [
      "[99, 76, 92.3, 'oi', 'Cibele', True, 4, 76, 'pitomba', 76]\n"
     ]
    }
   ],
   "source": [
    "# C)\n",
    "minhaLista = [76, 92.3, 'oi', 'Cibele', True, 4, 76, 'pitomba', 76]\n",
    "minhaLista = minhaLista [:0] + [99] + minhaLista [0:]\n",
    "\n",
    "print (minhaLista)"
   ]
  },
  {
   "cell_type": "code",
   "execution_count": 42,
   "metadata": {},
   "outputs": [
    {
     "name": "stdout",
     "output_type": "stream",
     "text": [
      "3\n"
     ]
    }
   ],
   "source": [
    "# D)\n",
    "if minhaLista[0] == 'oi':\n",
    "    print (0)\n",
    "elif minhaLista[1] == 'oi':\n",
    "    print (1)\n",
    "elif minhaLista[2] == 'oi':\n",
    "    print (2)\n",
    "elif minhaLista[3] == 'oi':\n",
    "    print (3)\n",
    "elif minhaLista[4] == 'oi':\n",
    "    print (4)\n",
    "elif minhaLista[5] == 'oi':\n",
    "    print (5)\n",
    "elif minhaLista[6] == 'oi':\n",
    "    print (6)\n",
    "elif minhaLista[7] == 'oi':\n",
    "    print (7)\n",
    "elif minhaLista[8] == 'oi':\n",
    "    print (8)\n",
    "elif minhaLista[9] == 'oi':\n",
    "    print (9)\n",
    "elif minhaLista[10] == 'oi':\n",
    "    print (10)\n",
    "else:\n",
    "    print ('Cade o for?')\n"
   ]
  },
  {
   "cell_type": "code",
   "execution_count": 56,
   "metadata": {},
   "outputs": [
    {
     "name": "stdout",
     "output_type": "stream",
     "text": [
      "[99, 76, 92.3, 'oi', 'Cibele', 4, 76, 'pitomba', 76]\n"
     ]
    }
   ],
   "source": [
    "# E)\n",
    "minhaLista = [99, 76, 92.3, 'oi', 'Cibele', True, 4, 76, 'pitomba', 76]\n",
    "\n",
    "minhaLista = minhaLista [:5] + minhaLista [6:]\n",
    "print (minhaLista)\n"
   ]
  }
 ],
 "metadata": {
  "kernelspec": {
   "display_name": "Python 3",
   "language": "python",
   "name": "python3"
  },
  "language_info": {
   "codemirror_mode": {
    "name": "ipython",
    "version": 3
   },
   "file_extension": ".py",
   "mimetype": "text/x-python",
   "name": "python",
   "nbconvert_exporter": "python",
   "pygments_lexer": "ipython3",
   "version": "3.12.1"
  }
 },
 "nbformat": 4,
 "nbformat_minor": 2
}
