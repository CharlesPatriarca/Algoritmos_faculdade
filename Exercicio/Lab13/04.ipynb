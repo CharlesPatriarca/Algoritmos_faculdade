{
 "cells": [
  {
   "cell_type": "code",
   "execution_count": 3,
   "metadata": {},
   "outputs": [
    {
     "name": "stdout",
     "output_type": "stream",
     "text": [
      "40\n",
      "170.608\n"
     ]
    }
   ],
   "source": [
    "# 1) Faça um Programa que peça 2 números inteiros e um número real. Calcule e mostre:\n",
    "# a) O produto do dobro do primeiro com metade do segundo.\n",
    "# b)A soma do triplo do primeiro com o terceiro. o terceiro elevado ao cubo.\n",
    "\n",
    "num1 = int(input('Digite o primeiro número: '))\n",
    "num2 = int(input('Digite o segundo número: '))\n",
    "num3 = float(input('Digite o terceiro número: '))\n",
    "\n",
    "produto = (num1 * 2) * (num2 // 2)\n",
    "soma = (num1 * 3) + (num3 ** 3)\n",
    "\n",
    "print (produto)\n",
    "print (soma)"
   ]
  },
  {
   "cell_type": "code",
   "execution_count": 3,
   "metadata": {},
   "outputs": [
    {
     "name": "stdout",
     "output_type": "stream",
     "text": [
      "5\n"
     ]
    }
   ],
   "source": [
    "# 2) Faça um Programa que peça dois números e imprima o maior deles.\n",
    "\n",
    "num1 = int(input('Digite um número: '))\n",
    "num2 = int(input('Digite o segundo número: '))\n",
    "\n",
    "if num1 > num2:\n",
    "    print (num1)\n",
    "else:\n",
    "    print (num2)"
   ]
  },
  {
   "cell_type": "code",
   "execution_count": 5,
   "metadata": {},
   "outputs": [
    {
     "name": "stdout",
     "output_type": "stream",
     "text": [
      "negativo\n"
     ]
    }
   ],
   "source": [
    "# 3) Faça um Programa que peça um valor e mostre na tela se o valor é positivo ou negativo.\n",
    "\n",
    "valor = int(input('Digite um valor: '))\n",
    "\n",
    "if valor > 0:\n",
    "    print ('positivo')\n",
    "else:\n",
    "    print ('negativo')"
   ]
  },
  {
   "cell_type": "code",
   "execution_count": 5,
   "metadata": {},
   "outputs": [
    {
     "name": "stdout",
     "output_type": "stream",
     "text": [
      "Reprovado\n"
     ]
    }
   ],
   "source": [
    "# 4) Faça um programa para a leitura de duas notas parciais de um aluno. O programa deve calcular a média alcançada por aluno e \n",
    "# apresentar o resultado \"Aprovado\" ou \"Reprovado\". Considere que a escola adota média 7.00.\n",
    "\n",
    "nota1 = float(input('Digite sua primeira nota: '))\n",
    "nota2 = float(input('Digite sua segunda nota: '))\n",
    "\n",
    "media = (nota1 + nota2) / 2\n",
    "\n",
    "if media > 7.00:\n",
    "    print (f'Sua média foi {media} e você está aprovado')\n",
    "else:\n",
    "    print (f'Sua média foi {media} e você está reprovado')"
   ]
  },
  {
   "cell_type": "code",
   "execution_count": 46,
   "metadata": {},
   "outputs": [
    {
     "name": "stdout",
     "output_type": "stream",
     "text": [
      "10\n"
     ]
    }
   ],
   "source": [
    "# 5)Faça um Programa que leia três números e mostre o maior deles.\n",
    "\n",
    "num1 = int(input('Digite um número: '))\n",
    "num2 = int(input('Digite um número: '))\n",
    "num3 = int(input('Digite um número: '))\n",
    "\n",
    "\n",
    "if num1 > num2 and num1 > num3:\n",
    "    print (num1)\n",
    "\n",
    "elif num2 > num1 and num2 > num3:\n",
    "    print (num2)\n",
    "\n",
    "else:\n",
    "    print (num3)"
   ]
  }
 ],
 "metadata": {
  "kernelspec": {
   "display_name": "Python 3",
   "language": "python",
   "name": "python3"
  },
  "language_info": {
   "codemirror_mode": {
    "name": "ipython",
    "version": 3
   },
   "file_extension": ".py",
   "mimetype": "text/x-python",
   "name": "python",
   "nbconvert_exporter": "python",
   "pygments_lexer": "ipython3",
   "version": "3.12.1"
  }
 },
 "nbformat": 4,
 "nbformat_minor": 2
}
