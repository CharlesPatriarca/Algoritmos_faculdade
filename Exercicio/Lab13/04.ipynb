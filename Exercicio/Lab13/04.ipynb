{
 "cells": [
  {
   "cell_type": "code",
   "execution_count": 2,
   "metadata": {},
   "outputs": [
    {
     "name": "stdout",
     "output_type": "stream",
     "text": [
      "8\n",
      "21.625\n"
     ]
    }
   ],
   "source": [
    "num1 = int(input('Digite o primeiro número: '))\n",
    "num2 = int(input('Digite o segundo número: '))\n",
    "num3 = float(input('Digite o terceiro número: '))\n",
    "\n",
    "produto = (num1 * 2) * (num2 // 2)\n",
    "soma = (num1 * 3) + (num3 ** 3)\n",
    "\n",
    "print (produto)\n",
    "print (soma)"
   ]
  },
  {
   "cell_type": "code",
   "execution_count": 3,
   "metadata": {},
   "outputs": [
    {
     "name": "stdout",
     "output_type": "stream",
     "text": [
      "5\n"
     ]
    }
   ],
   "source": [
    "num1 = int(input('Digite um número: '))\n",
    "num2 = int(input('Digite o segundo número: '))\n",
    "\n",
    "if num1 > num2:\n",
    "    print (num1)\n",
    "else:\n",
    "    print (num2)"
   ]
  },
  {
   "cell_type": "code",
   "execution_count": 5,
   "metadata": {},
   "outputs": [
    {
     "name": "stdout",
     "output_type": "stream",
     "text": [
      "negativo\n"
     ]
    }
   ],
   "source": [
    "valor = int(input('Digite um valor: '))\n",
    "\n",
    "if valor > 0:\n",
    "    print ('positivo')\n",
    "else:\n",
    "    print ('negativo')"
   ]
  },
  {
   "cell_type": "code",
   "execution_count": 9,
   "metadata": {},
   "outputs": [
    {
     "name": "stdout",
     "output_type": "stream",
     "text": [
      "Reprovado\n"
     ]
    }
   ],
   "source": [
    "nota1 = float(input('Digite sua primeira nota: '))\n",
    "nota2 = float(input('Digite sua segunda nota: '))\n",
    "\n",
    "media = (nota1 + nota2) / 2\n",
    "\n",
    "if media > 7.00:\n",
    "    print ('Aprovado')\n",
    "else:\n",
    "    print ('Reprovado')"
   ]
  },
  {
   "cell_type": "code",
   "execution_count": 12,
   "metadata": {},
   "outputs": [
    {
     "name": "stdout",
     "output_type": "stream",
     "text": [
      "8\n"
     ]
    }
   ],
   "source": [
    "num1 = int(input('Digite um número: '))\n",
    "num2 = int(input('Digite um número: '))\n",
    "num3 = int(input('Digite um número: '))\n",
    "\n",
    "if num1 > num2:\n",
    "    print (num1)\n",
    "\n",
    "elif num2 > num3:\n",
    "    print (num2)\n",
    "else:\n",
    "    print (num3)"
   ]
  }
 ],
 "metadata": {
  "kernelspec": {
   "display_name": "Python 3",
   "language": "python",
   "name": "python3"
  },
  "language_info": {
   "codemirror_mode": {
    "name": "ipython",
    "version": 3
   },
   "file_extension": ".py",
   "mimetype": "text/x-python",
   "name": "python",
   "nbconvert_exporter": "python",
   "pygments_lexer": "ipython3",
   "version": "3.12.1"
  }
 },
 "nbformat": 4,
 "nbformat_minor": 2
}
