{
 "cells": [
  {
   "cell_type": "code",
   "execution_count": 1,
   "metadata": {},
   "outputs": [],
   "source": [
    "def leitura():\n",
    "    for num in range (5):\n",
    "        print(f\"Número {num}\")\n",
    "\n",
    "\n",
    "def addNum (n1, n2):\n",
    "    print(f\"O primeiro número é {n1}\")\n",
    "    print(f\"O segundo número é {n2}\")\n",
    "    print(f\"A soma dos dois números é {n1+n2}\")\n"
   ]
  },
  {
   "cell_type": "code",
   "execution_count": 2,
   "metadata": {},
   "outputs": [
    {
     "name": "stdout",
     "output_type": "stream",
     "text": [
      "10\n",
      "Variável da função multiplica: 59690\n"
     ]
    }
   ],
   "source": [
    "varGlobal = 10\n",
    "\n",
    "def multiplica (num1,num2):\n",
    "    varLocal = num1 * num2\n",
    "    print(f\"Variável da função multiplica: {varLocal}\")\n",
    "print(varGlobal)\n",
    "multiplica(254,235)\n"
   ]
  },
  {
   "cell_type": "code",
   "execution_count": 3,
   "metadata": {},
   "outputs": [
    {
     "name": "stdout",
     "output_type": "stream",
     "text": [
      "Variável da função multiplica: 8\n",
      "10\n"
     ]
    }
   ],
   "source": [
    "\n",
    "varGlobal = 10\n",
    "\n",
    "def multiplica (num1,num2):\n",
    "    varGlobal = num1 * num2\n",
    "    print(f\"Variável da função multiplica: {varGlobal}\")\n",
    "    \n",
    "multiplica(4,2)\n",
    "print(varGlobal)\n"
   ]
  },
  {
   "cell_type": "code",
   "execution_count": 4,
   "metadata": {},
   "outputs": [
    {
     "name": "stdout",
     "output_type": "stream",
     "text": [
      "Parametro 0, Luquinhas\n",
      "Parametro 1, Madá\n",
      "Parametro 2, Gggio\n"
     ]
    }
   ],
   "source": [
    "def varioParametros (*paramentros):\n",
    "    for n, item in enumerate (paramentros):\n",
    "        print(f\"Parametro {n}, {item}\")\n",
    "    return\n",
    "\n",
    "varioParametros(\"Luquinhas\", \"Madá\", \"Gggio\")\n",
    "\n"
   ]
  }
 ],
 "metadata": {
  "kernelspec": {
   "display_name": "Python 3",
   "language": "python",
   "name": "python3"
  },
  "language_info": {
   "codemirror_mode": {
    "name": "ipython",
    "version": 3
   },
   "file_extension": ".py",
   "mimetype": "text/x-python",
   "name": "python",
   "nbconvert_exporter": "python",
   "pygments_lexer": "ipython3",
   "version": "3.12.1"
  }
 },
 "nbformat": 4,
 "nbformat_minor": 2
}
