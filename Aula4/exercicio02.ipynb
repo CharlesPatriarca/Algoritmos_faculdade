{
 "cells": [
  {
   "cell_type": "code",
   "execution_count": 10,
   "metadata": {},
   "outputs": [
    {
     "name": "stdout",
     "output_type": "stream",
     "text": [
      "Seu salário era 5000.0, agora será 7000.0, e a diferença é 2000.0\n"
     ]
    }
   ],
   "source": [
    "# 101 - gerente - 10/100\n",
    "# 102 - engenheiro - 20/100\n",
    "# 103 - técnico - 30/100\n",
    "# ler salário e cargo, calcule novo salário\n",
    "# se estiver fora da tabela - 40/100\n",
    "#mostrar salário antigo, novo e diferenca\n",
    "\n",
    "salario = float (input ('Digite seu salário: '))\n",
    "cargo = input ('Digite seu cargo: ')\n",
    "\n",
    "cargo1 = salario * 10/100\n",
    "cargo2 = salario * 20/100\n",
    "cargo3 = salario * 30/100\n",
    "cargoNovo = salario * 40/100\n",
    "\n",
    "novoSalario1 = salario + cargo1\n",
    "novoSalario2 = salario + cargo2\n",
    "novoSalario3 = salario + cargo3\n",
    "novoSalario4 = salario + cargoNovo\n",
    "\n",
    "if cargo == 'Gerente':\n",
    "    print (f'Seu salário era {salario}, agora será {novoSalario1}, e a diferença é {cargo1}')\n",
    "elif cargo == 'Engenheiro':\n",
    "    print (f'Seu salário era {salario}, agora será {novoSalario2}, e a diferença é {cargo2}')\n",
    "elif cargo == 'Técnico':\n",
    "    print (f'Seu salário era {salario}, agora será {novoSalario3}, e a diferença é {cargo3}')\n",
    "else:\n",
    "    print (f'Seu salário era {salario}, agora será {novoSalario4}, e a diferença é {cargo4}')"
   ]
  },
  {
   "cell_type": "code",
   "execution_count": 17,
   "metadata": {},
   "outputs": [
    {
     "name": "stdout",
     "output_type": "stream",
     "text": [
      "Seu salário era 5000.0, agora será 7000.0, e a diferença é 2000.0\n"
     ]
    }
   ],
   "source": [
    "# 101 - gerente - 10/100\n",
    "# 102 - engenheiro - 20/100\n",
    "# 103 - técnico - 30/100\n",
    "# ler salário e cargo, calcule novo salário\n",
    "# se estiver fora da tabela - 40/100\n",
    "#mostrar salário antigo, novo e diferenca\n",
    "\n",
    "salario = float (input ('Digite seu salário: '))\n",
    "cargo = input('Digite seu cargo: ')\n",
    "\n",
    "\n",
    "if cargo == 'Gerente':\n",
    "    aumento = salario * 10/100\n",
    "\n",
    "elif cargo == 'Engenheiro':\n",
    "    aumento = salario * 20/100\n",
    "\n",
    "elif cargo == 'Técnico':\n",
    "    aumento = salario * 30/100\n",
    "\n",
    "else:\n",
    "    aumento = salario * 40/100\n",
    "\n",
    "novoSalario = salario + aumento\n",
    "diferenca = novoSalario - salario\n",
    "\n",
    "print (f'Seu salário era {salario}, agora será {novoSalario}, e a diferença é {aumento}')\n",
    "\n"
   ]
  }
 ],
 "metadata": {
  "kernelspec": {
   "display_name": "Python 3",
   "language": "python",
   "name": "python3"
  },
  "language_info": {
   "codemirror_mode": {
    "name": "ipython",
    "version": 3
   },
   "file_extension": ".py",
   "mimetype": "text/x-python",
   "name": "python",
   "nbconvert_exporter": "python",
   "pygments_lexer": "ipython3",
   "version": "3.12.1"
  }
 },
 "nbformat": 4,
 "nbformat_minor": 2
}
