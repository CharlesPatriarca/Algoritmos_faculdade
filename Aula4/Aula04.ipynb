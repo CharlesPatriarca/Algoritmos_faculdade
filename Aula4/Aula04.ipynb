{
 "cells": [
  {
   "cell_type": "code",
   "execution_count": 3,
   "metadata": {},
   "outputs": [
    {
     "name": "stdout",
     "output_type": "stream",
     "text": [
      "O imposto a ser pago é 750.0\n"
     ]
    }
   ],
   "source": [
    "#  taxa de 1% < 1990 \n",
    "# taxa 1.5% >= 1990\n",
    "# taxa em cima do vaor do carro\n",
    "# ler ano e preço do carro, calcula o imposto a ser pago\n",
    "\n",
    "anoCarro = int(input ('Digite o ano do seu carro: '))\n",
    "precoCarro = float(input('Digite o valor do carro: '))\n",
    "taxa1 = 1/100\n",
    "taxa2 = 1.5/100\n",
    "\n",
    "imposto1 = precoCarro * taxa1\n",
    "imposto2 = precoCarro * taxa2\n",
    "\n",
    "if anoCarro < 1990:\n",
    "    print (f'O imposto a ser pago é {imposto1}')\n",
    "else:\n",
    "    print (f'O imposto a ser pago é {imposto2}')"
   ]
  }
 ],
 "metadata": {
  "kernelspec": {
   "display_name": "Python 3",
   "language": "python",
   "name": "python3"
  },
  "language_info": {
   "codemirror_mode": {
    "name": "ipython",
    "version": 3
   },
   "file_extension": ".py",
   "mimetype": "text/x-python",
   "name": "python",
   "nbconvert_exporter": "python",
   "pygments_lexer": "ipython3",
   "version": "3.12.1"
  }
 },
 "nbformat": 4,
 "nbformat_minor": 2
}
